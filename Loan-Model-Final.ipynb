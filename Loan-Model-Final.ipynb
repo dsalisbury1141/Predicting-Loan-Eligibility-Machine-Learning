{
 "cells": [
  {
   "cell_type": "code",
   "execution_count": 1,
   "metadata": {},
   "outputs": [],
   "source": [
    "#pip install seaborn"
   ]
  },
  {
   "cell_type": "markdown",
   "metadata": {},
   "source": [
    "# Import Libraries"
   ]
  },
  {
   "cell_type": "code",
   "execution_count": 1,
   "metadata": {},
   "outputs": [],
   "source": [
    "%matplotlib inline\n",
    "import pandas as pd\n",
    "import numpy as np\n",
    "import matplotlib.pyplot as plt\n",
    "import seaborn as sns"
   ]
  },
  {
   "cell_type": "markdown",
   "metadata": {},
   "source": [
    "# Read the CSV and Perform Basic Data Cleaning"
   ]
  },
  {
   "cell_type": "code",
   "execution_count": 2,
   "metadata": {},
   "outputs": [
    {
     "data": {
      "text/html": [
       "<div>\n",
       "<style scoped>\n",
       "    .dataframe tbody tr th:only-of-type {\n",
       "        vertical-align: middle;\n",
       "    }\n",
       "\n",
       "    .dataframe tbody tr th {\n",
       "        vertical-align: top;\n",
       "    }\n",
       "\n",
       "    .dataframe thead th {\n",
       "        text-align: right;\n",
       "    }\n",
       "</style>\n",
       "<table border=\"1\" class=\"dataframe\">\n",
       "  <thead>\n",
       "    <tr style=\"text-align: right;\">\n",
       "      <th></th>\n",
       "      <th>Loan_ID</th>\n",
       "      <th>Gender</th>\n",
       "      <th>Married</th>\n",
       "      <th>Dependents</th>\n",
       "      <th>Education</th>\n",
       "      <th>Self_Employed</th>\n",
       "      <th>ApplicantIncome</th>\n",
       "      <th>CoapplicantIncome</th>\n",
       "      <th>LoanAmount</th>\n",
       "      <th>Loan_Amount_Term</th>\n",
       "      <th>Credit_History</th>\n",
       "      <th>Property_Area</th>\n",
       "      <th>Loan_Status</th>\n",
       "    </tr>\n",
       "  </thead>\n",
       "  <tbody>\n",
       "    <tr>\n",
       "      <th>0</th>\n",
       "      <td>LP001002</td>\n",
       "      <td>Male</td>\n",
       "      <td>No</td>\n",
       "      <td>0</td>\n",
       "      <td>Graduate</td>\n",
       "      <td>No</td>\n",
       "      <td>5849</td>\n",
       "      <td>0.0</td>\n",
       "      <td>NaN</td>\n",
       "      <td>360.0</td>\n",
       "      <td>1.0</td>\n",
       "      <td>Urban</td>\n",
       "      <td>Y</td>\n",
       "    </tr>\n",
       "    <tr>\n",
       "      <th>1</th>\n",
       "      <td>LP001003</td>\n",
       "      <td>Male</td>\n",
       "      <td>Yes</td>\n",
       "      <td>1</td>\n",
       "      <td>Graduate</td>\n",
       "      <td>No</td>\n",
       "      <td>4583</td>\n",
       "      <td>1508.0</td>\n",
       "      <td>128.0</td>\n",
       "      <td>360.0</td>\n",
       "      <td>1.0</td>\n",
       "      <td>Rural</td>\n",
       "      <td>N</td>\n",
       "    </tr>\n",
       "    <tr>\n",
       "      <th>2</th>\n",
       "      <td>LP001005</td>\n",
       "      <td>Male</td>\n",
       "      <td>Yes</td>\n",
       "      <td>0</td>\n",
       "      <td>Graduate</td>\n",
       "      <td>Yes</td>\n",
       "      <td>3000</td>\n",
       "      <td>0.0</td>\n",
       "      <td>66.0</td>\n",
       "      <td>360.0</td>\n",
       "      <td>1.0</td>\n",
       "      <td>Urban</td>\n",
       "      <td>Y</td>\n",
       "    </tr>\n",
       "    <tr>\n",
       "      <th>3</th>\n",
       "      <td>LP001006</td>\n",
       "      <td>Male</td>\n",
       "      <td>Yes</td>\n",
       "      <td>0</td>\n",
       "      <td>Not Graduate</td>\n",
       "      <td>No</td>\n",
       "      <td>2583</td>\n",
       "      <td>2358.0</td>\n",
       "      <td>120.0</td>\n",
       "      <td>360.0</td>\n",
       "      <td>1.0</td>\n",
       "      <td>Urban</td>\n",
       "      <td>Y</td>\n",
       "    </tr>\n",
       "    <tr>\n",
       "      <th>4</th>\n",
       "      <td>LP001008</td>\n",
       "      <td>Male</td>\n",
       "      <td>No</td>\n",
       "      <td>0</td>\n",
       "      <td>Graduate</td>\n",
       "      <td>No</td>\n",
       "      <td>6000</td>\n",
       "      <td>0.0</td>\n",
       "      <td>141.0</td>\n",
       "      <td>360.0</td>\n",
       "      <td>1.0</td>\n",
       "      <td>Urban</td>\n",
       "      <td>Y</td>\n",
       "    </tr>\n",
       "  </tbody>\n",
       "</table>\n",
       "</div>"
      ],
      "text/plain": [
       "    Loan_ID Gender Married Dependents     Education Self_Employed  \\\n",
       "0  LP001002   Male      No          0      Graduate            No   \n",
       "1  LP001003   Male     Yes          1      Graduate            No   \n",
       "2  LP001005   Male     Yes          0      Graduate           Yes   \n",
       "3  LP001006   Male     Yes          0  Not Graduate            No   \n",
       "4  LP001008   Male      No          0      Graduate            No   \n",
       "\n",
       "   ApplicantIncome  CoapplicantIncome  LoanAmount  Loan_Amount_Term  \\\n",
       "0             5849                0.0         NaN             360.0   \n",
       "1             4583             1508.0       128.0             360.0   \n",
       "2             3000                0.0        66.0             360.0   \n",
       "3             2583             2358.0       120.0             360.0   \n",
       "4             6000                0.0       141.0             360.0   \n",
       "\n",
       "   Credit_History Property_Area Loan_Status  \n",
       "0             1.0         Urban           Y  \n",
       "1             1.0         Rural           N  \n",
       "2             1.0         Urban           Y  \n",
       "3             1.0         Urban           Y  \n",
       "4             1.0         Urban           Y  "
      ]
     },
     "execution_count": 2,
     "metadata": {},
     "output_type": "execute_result"
    }
   ],
   "source": [
    "# Raw dataset drop NA\n",
    "df = pd.read_csv(\"../resources/train_predict.csv\")\n",
    "# Drop the null columns where all values are null\n",
    "df1 = df.dropna(axis='columns', how='all')\n",
    "df1.head()"
   ]
  },
  {
   "cell_type": "code",
   "execution_count": 3,
   "metadata": {},
   "outputs": [
    {
     "data": {
      "text/plain": [
       "Loan_ID              0.000000\n",
       "Gender               2.117264\n",
       "Married              0.488599\n",
       "Dependents           2.442997\n",
       "Education            0.000000\n",
       "Self_Employed        5.211726\n",
       "ApplicantIncome      0.000000\n",
       "CoapplicantIncome    0.000000\n",
       "LoanAmount           3.583062\n",
       "Loan_Amount_Term     2.280130\n",
       "Credit_History       8.143322\n",
       "Property_Area        0.000000\n",
       "Loan_Status          0.000000\n",
       "dtype: float64"
      ]
     },
     "execution_count": 3,
     "metadata": {},
     "output_type": "execute_result"
    }
   ],
   "source": [
    "#Reviewing the percentage of null values NAN\n",
    "100*df1.isnull().sum()/df.shape[0]"
   ]
  },
  {
   "cell_type": "code",
   "execution_count": 4,
   "metadata": {},
   "outputs": [
    {
     "data": {
      "text/html": [
       "<div>\n",
       "<style scoped>\n",
       "    .dataframe tbody tr th:only-of-type {\n",
       "        vertical-align: middle;\n",
       "    }\n",
       "\n",
       "    .dataframe tbody tr th {\n",
       "        vertical-align: top;\n",
       "    }\n",
       "\n",
       "    .dataframe thead th {\n",
       "        text-align: right;\n",
       "    }\n",
       "</style>\n",
       "<table border=\"1\" class=\"dataframe\">\n",
       "  <thead>\n",
       "    <tr style=\"text-align: right;\">\n",
       "      <th></th>\n",
       "      <th>loan_id</th>\n",
       "      <th>gender</th>\n",
       "      <th>married</th>\n",
       "      <th>dependents</th>\n",
       "      <th>education</th>\n",
       "      <th>self_employed</th>\n",
       "      <th>applicantincome</th>\n",
       "      <th>coapplicantincome</th>\n",
       "      <th>loanamount</th>\n",
       "      <th>loan_amount_term</th>\n",
       "      <th>credit_history</th>\n",
       "      <th>property_area</th>\n",
       "      <th>loan_status</th>\n",
       "    </tr>\n",
       "  </thead>\n",
       "  <tbody>\n",
       "    <tr>\n",
       "      <th>1</th>\n",
       "      <td>LP001003</td>\n",
       "      <td>Male</td>\n",
       "      <td>Yes</td>\n",
       "      <td>1</td>\n",
       "      <td>Graduate</td>\n",
       "      <td>No</td>\n",
       "      <td>4583</td>\n",
       "      <td>1508.0</td>\n",
       "      <td>128.0</td>\n",
       "      <td>360.0</td>\n",
       "      <td>1.0</td>\n",
       "      <td>Rural</td>\n",
       "      <td>N</td>\n",
       "    </tr>\n",
       "    <tr>\n",
       "      <th>2</th>\n",
       "      <td>LP001005</td>\n",
       "      <td>Male</td>\n",
       "      <td>Yes</td>\n",
       "      <td>0</td>\n",
       "      <td>Graduate</td>\n",
       "      <td>Yes</td>\n",
       "      <td>3000</td>\n",
       "      <td>0.0</td>\n",
       "      <td>66.0</td>\n",
       "      <td>360.0</td>\n",
       "      <td>1.0</td>\n",
       "      <td>Urban</td>\n",
       "      <td>Y</td>\n",
       "    </tr>\n",
       "    <tr>\n",
       "      <th>3</th>\n",
       "      <td>LP001006</td>\n",
       "      <td>Male</td>\n",
       "      <td>Yes</td>\n",
       "      <td>0</td>\n",
       "      <td>Not Graduate</td>\n",
       "      <td>No</td>\n",
       "      <td>2583</td>\n",
       "      <td>2358.0</td>\n",
       "      <td>120.0</td>\n",
       "      <td>360.0</td>\n",
       "      <td>1.0</td>\n",
       "      <td>Urban</td>\n",
       "      <td>Y</td>\n",
       "    </tr>\n",
       "    <tr>\n",
       "      <th>4</th>\n",
       "      <td>LP001008</td>\n",
       "      <td>Male</td>\n",
       "      <td>No</td>\n",
       "      <td>0</td>\n",
       "      <td>Graduate</td>\n",
       "      <td>No</td>\n",
       "      <td>6000</td>\n",
       "      <td>0.0</td>\n",
       "      <td>141.0</td>\n",
       "      <td>360.0</td>\n",
       "      <td>1.0</td>\n",
       "      <td>Urban</td>\n",
       "      <td>Y</td>\n",
       "    </tr>\n",
       "    <tr>\n",
       "      <th>5</th>\n",
       "      <td>LP001011</td>\n",
       "      <td>Male</td>\n",
       "      <td>Yes</td>\n",
       "      <td>2</td>\n",
       "      <td>Graduate</td>\n",
       "      <td>Yes</td>\n",
       "      <td>5417</td>\n",
       "      <td>4196.0</td>\n",
       "      <td>267.0</td>\n",
       "      <td>360.0</td>\n",
       "      <td>1.0</td>\n",
       "      <td>Urban</td>\n",
       "      <td>Y</td>\n",
       "    </tr>\n",
       "  </tbody>\n",
       "</table>\n",
       "</div>"
      ],
      "text/plain": [
       "    loan_id gender married dependents     education self_employed  \\\n",
       "1  LP001003   Male     Yes          1      Graduate            No   \n",
       "2  LP001005   Male     Yes          0      Graduate           Yes   \n",
       "3  LP001006   Male     Yes          0  Not Graduate            No   \n",
       "4  LP001008   Male      No          0      Graduate            No   \n",
       "5  LP001011   Male     Yes          2      Graduate           Yes   \n",
       "\n",
       "   applicantincome  coapplicantincome  loanamount  loan_amount_term  \\\n",
       "1             4583             1508.0       128.0             360.0   \n",
       "2             3000                0.0        66.0             360.0   \n",
       "3             2583             2358.0       120.0             360.0   \n",
       "4             6000                0.0       141.0             360.0   \n",
       "5             5417             4196.0       267.0             360.0   \n",
       "\n",
       "   credit_history property_area loan_status  \n",
       "1             1.0         Rural           N  \n",
       "2             1.0         Urban           Y  \n",
       "3             1.0         Urban           Y  \n",
       "4             1.0         Urban           Y  \n",
       "5             1.0         Urban           Y  "
      ]
     },
     "execution_count": 4,
     "metadata": {},
     "output_type": "execute_result"
    }
   ],
   "source": [
    "# Drop the Null rows data cleaning, making all column headers lowercase\n",
    "loan_df = df.dropna()\n",
    "loan_df.columns=df.columns.str.lower()\n",
    "loan_df.head()"
   ]
  },
  {
   "cell_type": "code",
   "execution_count": 5,
   "metadata": {},
   "outputs": [],
   "source": [
    "#Update column names removing unneeded values\n",
    "loan_df.columns=['loan_id', 'gender', 'married', 'dependents', 'education','self_employed'\n",
    "            , 'income', 'co_income', 'loan_amount', 'loan_term', 'credit_history', 'property_area', 'loan_status']"
   ]
  },
  {
   "cell_type": "code",
   "execution_count": 6,
   "metadata": {},
   "outputs": [
    {
     "data": {
      "text/plain": [
       "loan_id            object\n",
       "gender             object\n",
       "married            object\n",
       "dependents         object\n",
       "education          object\n",
       "self_employed      object\n",
       "income              int64\n",
       "co_income         float64\n",
       "loan_amount       float64\n",
       "loan_term         float64\n",
       "credit_history    float64\n",
       "property_area      object\n",
       "loan_status        object\n",
       "dtype: object"
      ]
     },
     "execution_count": 6,
     "metadata": {},
     "output_type": "execute_result"
    }
   ],
   "source": [
    "#Test data_df after drop NAN\n",
    "loan_df.dtypes"
   ]
  },
  {
   "cell_type": "code",
   "execution_count": 7,
   "metadata": {},
   "outputs": [
    {
     "data": {
      "text/plain": [
       "(480, 13)"
      ]
     },
     "execution_count": 7,
     "metadata": {},
     "output_type": "execute_result"
    }
   ],
   "source": [
    "#Looking over the dataset\n",
    "loan_df.shape"
   ]
  },
  {
   "cell_type": "code",
   "execution_count": 8,
   "metadata": {},
   "outputs": [
    {
     "data": {
      "text/plain": [
       "array(['1', '0', '2', '3+'], dtype=object)"
      ]
     },
     "execution_count": 8,
     "metadata": {},
     "output_type": "execute_result"
    }
   ],
   "source": [
    "#Reviewing data\n",
    "loan_df['dependents'].unique()"
   ]
  },
  {
   "cell_type": "code",
   "execution_count": 9,
   "metadata": {},
   "outputs": [
    {
     "data": {
      "text/plain": [
       "array(['No', 'Yes'], dtype=object)"
      ]
     },
     "execution_count": 9,
     "metadata": {},
     "output_type": "execute_result"
    }
   ],
   "source": [
    "#Reviewing data\n",
    "loan_df['self_employed'].unique()"
   ]
  },
  {
   "cell_type": "code",
   "execution_count": 10,
   "metadata": {},
   "outputs": [
    {
     "data": {
      "text/plain": [
       "array([360., 120., 180.,  60., 300., 480., 240.,  36.,  84.])"
      ]
     },
     "execution_count": 10,
     "metadata": {},
     "output_type": "execute_result"
    }
   ],
   "source": [
    "#Reviewing data\n",
    "loan_df['loan_term'].unique()"
   ]
  },
  {
   "cell_type": "code",
   "execution_count": 11,
   "metadata": {},
   "outputs": [
    {
     "data": {
      "text/plain": [
       "array([1., 0.])"
      ]
     },
     "execution_count": 11,
     "metadata": {},
     "output_type": "execute_result"
    }
   ],
   "source": [
    "#Reviewing data\n",
    "loan_df['credit_history'].unique()"
   ]
  },
  {
   "cell_type": "code",
   "execution_count": 12,
   "metadata": {},
   "outputs": [
    {
     "data": {
      "text/html": [
       "<div>\n",
       "<style scoped>\n",
       "    .dataframe tbody tr th:only-of-type {\n",
       "        vertical-align: middle;\n",
       "    }\n",
       "\n",
       "    .dataframe tbody tr th {\n",
       "        vertical-align: top;\n",
       "    }\n",
       "\n",
       "    .dataframe thead th {\n",
       "        text-align: right;\n",
       "    }\n",
       "</style>\n",
       "<table border=\"1\" class=\"dataframe\">\n",
       "  <thead>\n",
       "    <tr style=\"text-align: right;\">\n",
       "      <th></th>\n",
       "      <th>income</th>\n",
       "      <th>co_income</th>\n",
       "      <th>loan_amount</th>\n",
       "      <th>loan_term</th>\n",
       "      <th>credit_history</th>\n",
       "    </tr>\n",
       "  </thead>\n",
       "  <tbody>\n",
       "    <tr>\n",
       "      <th>count</th>\n",
       "      <td>480.000000</td>\n",
       "      <td>480.000000</td>\n",
       "      <td>480.000000</td>\n",
       "      <td>480.000000</td>\n",
       "      <td>480.000000</td>\n",
       "    </tr>\n",
       "    <tr>\n",
       "      <th>mean</th>\n",
       "      <td>5364.231250</td>\n",
       "      <td>1581.093583</td>\n",
       "      <td>144.735417</td>\n",
       "      <td>342.050000</td>\n",
       "      <td>0.854167</td>\n",
       "    </tr>\n",
       "    <tr>\n",
       "      <th>std</th>\n",
       "      <td>5668.251251</td>\n",
       "      <td>2617.692267</td>\n",
       "      <td>80.508164</td>\n",
       "      <td>65.212401</td>\n",
       "      <td>0.353307</td>\n",
       "    </tr>\n",
       "    <tr>\n",
       "      <th>min</th>\n",
       "      <td>150.000000</td>\n",
       "      <td>0.000000</td>\n",
       "      <td>9.000000</td>\n",
       "      <td>36.000000</td>\n",
       "      <td>0.000000</td>\n",
       "    </tr>\n",
       "    <tr>\n",
       "      <th>25%</th>\n",
       "      <td>2898.750000</td>\n",
       "      <td>0.000000</td>\n",
       "      <td>100.000000</td>\n",
       "      <td>360.000000</td>\n",
       "      <td>1.000000</td>\n",
       "    </tr>\n",
       "    <tr>\n",
       "      <th>50%</th>\n",
       "      <td>3859.000000</td>\n",
       "      <td>1084.500000</td>\n",
       "      <td>128.000000</td>\n",
       "      <td>360.000000</td>\n",
       "      <td>1.000000</td>\n",
       "    </tr>\n",
       "    <tr>\n",
       "      <th>75%</th>\n",
       "      <td>5852.500000</td>\n",
       "      <td>2253.250000</td>\n",
       "      <td>170.000000</td>\n",
       "      <td>360.000000</td>\n",
       "      <td>1.000000</td>\n",
       "    </tr>\n",
       "    <tr>\n",
       "      <th>max</th>\n",
       "      <td>81000.000000</td>\n",
       "      <td>33837.000000</td>\n",
       "      <td>600.000000</td>\n",
       "      <td>480.000000</td>\n",
       "      <td>1.000000</td>\n",
       "    </tr>\n",
       "  </tbody>\n",
       "</table>\n",
       "</div>"
      ],
      "text/plain": [
       "             income     co_income  loan_amount   loan_term  credit_history\n",
       "count    480.000000    480.000000   480.000000  480.000000      480.000000\n",
       "mean    5364.231250   1581.093583   144.735417  342.050000        0.854167\n",
       "std     5668.251251   2617.692267    80.508164   65.212401        0.353307\n",
       "min      150.000000      0.000000     9.000000   36.000000        0.000000\n",
       "25%     2898.750000      0.000000   100.000000  360.000000        1.000000\n",
       "50%     3859.000000   1084.500000   128.000000  360.000000        1.000000\n",
       "75%     5852.500000   2253.250000   170.000000  360.000000        1.000000\n",
       "max    81000.000000  33837.000000   600.000000  480.000000        1.000000"
      ]
     },
     "execution_count": 12,
     "metadata": {},
     "output_type": "execute_result"
    }
   ],
   "source": [
    "#Looking over the Income and loan amounts  mean min ect.\n",
    "loan_df.describe()"
   ]
  },
  {
   "cell_type": "markdown",
   "metadata": {},
   "source": [
    "# Select your features (columns)"
   ]
  },
  {
   "cell_type": "code",
   "execution_count": 13,
   "metadata": {},
   "outputs": [
    {
     "data": {
      "text/html": [
       "<div>\n",
       "<style scoped>\n",
       "    .dataframe tbody tr th:only-of-type {\n",
       "        vertical-align: middle;\n",
       "    }\n",
       "\n",
       "    .dataframe tbody tr th {\n",
       "        vertical-align: top;\n",
       "    }\n",
       "\n",
       "    .dataframe thead th {\n",
       "        text-align: right;\n",
       "    }\n",
       "</style>\n",
       "<table border=\"1\" class=\"dataframe\">\n",
       "  <thead>\n",
       "    <tr style=\"text-align: right;\">\n",
       "      <th></th>\n",
       "      <th>gender</th>\n",
       "      <th>married</th>\n",
       "      <th>dependents</th>\n",
       "      <th>education</th>\n",
       "      <th>self_employed</th>\n",
       "      <th>income</th>\n",
       "      <th>co_income</th>\n",
       "      <th>loan_amount</th>\n",
       "      <th>loan_term</th>\n",
       "      <th>credit_history</th>\n",
       "      <th>loan_status</th>\n",
       "    </tr>\n",
       "  </thead>\n",
       "  <tbody>\n",
       "    <tr>\n",
       "      <th>1</th>\n",
       "      <td>Male</td>\n",
       "      <td>Yes</td>\n",
       "      <td>1</td>\n",
       "      <td>Graduate</td>\n",
       "      <td>No</td>\n",
       "      <td>4583</td>\n",
       "      <td>1508.0</td>\n",
       "      <td>128.0</td>\n",
       "      <td>360.0</td>\n",
       "      <td>1.0</td>\n",
       "      <td>N</td>\n",
       "    </tr>\n",
       "    <tr>\n",
       "      <th>2</th>\n",
       "      <td>Male</td>\n",
       "      <td>Yes</td>\n",
       "      <td>0</td>\n",
       "      <td>Graduate</td>\n",
       "      <td>Yes</td>\n",
       "      <td>3000</td>\n",
       "      <td>0.0</td>\n",
       "      <td>66.0</td>\n",
       "      <td>360.0</td>\n",
       "      <td>1.0</td>\n",
       "      <td>Y</td>\n",
       "    </tr>\n",
       "    <tr>\n",
       "      <th>3</th>\n",
       "      <td>Male</td>\n",
       "      <td>Yes</td>\n",
       "      <td>0</td>\n",
       "      <td>Not Graduate</td>\n",
       "      <td>No</td>\n",
       "      <td>2583</td>\n",
       "      <td>2358.0</td>\n",
       "      <td>120.0</td>\n",
       "      <td>360.0</td>\n",
       "      <td>1.0</td>\n",
       "      <td>Y</td>\n",
       "    </tr>\n",
       "    <tr>\n",
       "      <th>4</th>\n",
       "      <td>Male</td>\n",
       "      <td>No</td>\n",
       "      <td>0</td>\n",
       "      <td>Graduate</td>\n",
       "      <td>No</td>\n",
       "      <td>6000</td>\n",
       "      <td>0.0</td>\n",
       "      <td>141.0</td>\n",
       "      <td>360.0</td>\n",
       "      <td>1.0</td>\n",
       "      <td>Y</td>\n",
       "    </tr>\n",
       "    <tr>\n",
       "      <th>5</th>\n",
       "      <td>Male</td>\n",
       "      <td>Yes</td>\n",
       "      <td>2</td>\n",
       "      <td>Graduate</td>\n",
       "      <td>Yes</td>\n",
       "      <td>5417</td>\n",
       "      <td>4196.0</td>\n",
       "      <td>267.0</td>\n",
       "      <td>360.0</td>\n",
       "      <td>1.0</td>\n",
       "      <td>Y</td>\n",
       "    </tr>\n",
       "  </tbody>\n",
       "</table>\n",
       "</div>"
      ],
      "text/plain": [
       "  gender married dependents     education self_employed  income  co_income  \\\n",
       "1   Male     Yes          1      Graduate            No    4583     1508.0   \n",
       "2   Male     Yes          0      Graduate           Yes    3000        0.0   \n",
       "3   Male     Yes          0  Not Graduate            No    2583     2358.0   \n",
       "4   Male      No          0      Graduate            No    6000        0.0   \n",
       "5   Male     Yes          2      Graduate           Yes    5417     4196.0   \n",
       "\n",
       "   loan_amount  loan_term  credit_history loan_status  \n",
       "1        128.0      360.0             1.0           N  \n",
       "2         66.0      360.0             1.0           Y  \n",
       "3        120.0      360.0             1.0           Y  \n",
       "4        141.0      360.0             1.0           Y  \n",
       "5        267.0      360.0             1.0           Y  "
      ]
     },
     "execution_count": 13,
     "metadata": {},
     "output_type": "execute_result"
    }
   ],
   "source": [
    "# Set features. This will also be used as your x values. Removed 'loan_id', 'property_area'\n",
    "loan_features_df = loan_df[['gender', 'married', 'dependents', 'education','self_employed'\n",
    "            , 'income', 'co_income', 'loan_amount', 'loan_term', 'credit_history', 'loan_status']]\n",
    "loan_features_df.head()"
   ]
  },
  {
   "cell_type": "code",
   "execution_count": 15,
   "metadata": {},
   "outputs": [
    {
     "data": {
      "image/png": "[encoded data removed]",
      "text/plain": [
       "<Figure size 479.55x288 with 2 Axes>"
      ]
     },
     "metadata": {},
     "output_type": "display_data"
    }
   ],
   "source": [
    "sns.set_theme(style=\"darkgrid\")\n",
    "sns.catplot(x=\"married\", \n",
    "                hue=\"gender\", \n",
    "                col=\"loan_status\",\n",
    "                edgecolor=(0,0,0),\n",
    "                palette=\"light:#5A9\",\n",
    "                data=loan_features_df, kind=\"count\",\n",
    "                height=4, aspect=.7);"
   ]
  },
  {
   "cell_type": "code",
   "execution_count": 16,
   "metadata": {},
   "outputs": [
    {
     "data": {
      "image/png": "[encoded data removed]",
      "text/plain": [
       "<Figure size 473.25x288 with 2 Axes>"
      ]
     },
     "metadata": {},
     "output_type": "display_data"
    }
   ],
   "source": [
    "sns.catplot(x=\"credit_history\", \n",
    "                hue=\"loan_status\", \n",
    "                col=\"education\",\n",
    "                edgecolor=(0,0,0),\n",
    "                palette=\"light:#5A9\",\n",
    "                data=loan_features_df, kind=\"count\",\n",
    "                height=4, aspect=.7);"
   ]
  },
  {
   "cell_type": "code",
   "execution_count": 18,
   "metadata": {},
   "outputs": [
    {
     "data": {
      "text/plain": [
       "<AxesSubplot:xlabel='count', ylabel='loan_term'>"
      ]
     },
     "execution_count": 18,
     "metadata": {},
     "output_type": "execute_result"
    },
    {
     "data": {
      "image/png": "[encoded data removed]",
      "text/plain": [
       "<Figure size 432x288 with 1 Axes>"
      ]
     },
     "metadata": {},
     "output_type": "display_data"
    }
   ],
   "source": [
    "#Plot Loan Term vs Count approved , denide \n",
    "sns.set_theme(style=\"darkgrid\")\n",
    "sns.countplot(y='loan_term', \n",
    "              edgecolor=(0,0,0), \n",
    "              palette=\"light:#5A9\",\n",
    "              hue ='loan_status',\n",
    "              data =loan_features_df)"
   ]
  },
  {
   "cell_type": "code",
   "execution_count": 19,
   "metadata": {},
   "outputs": [
    {
     "data": {
      "image/png": "[encoded data removed]",
      "text/plain": [
       "<Figure size 432x288 with 1 Axes>"
      ]
     },
     "metadata": {},
     "output_type": "display_data"
    }
   ],
   "source": [
    "sns.set_theme(style=\"darkgrid\")\n",
    "sns.countplot(x='dependents',\n",
    "              edgecolor=(0,0,0),\n",
    "              hue='loan_status',\n",
    "              palette=\"light:#5A9\",\n",
    "              data=loan_features_df);\n"
   ]
  },
  {
   "cell_type": "code",
   "execution_count": 20,
   "metadata": {},
   "outputs": [
    {
     "data": {
      "image/png": "[encoded data removed]",
      "text/plain": [
       "<Figure size 432x288 with 2 Axes>"
      ]
     },
     "metadata": {},
     "output_type": "display_data"
    }
   ],
   "source": [
    "sns.heatmap(loan_features_df.corr(),annot=True)\n",
    "plt.show()"
   ]
  },
  {
   "cell_type": "markdown",
   "metadata": {},
   "source": [
    "# Create a Train Test Split\n",
    "\n",
    "Use `loan_status` for the y values"
   ]
  },
  {
   "cell_type": "code",
   "execution_count": 27,
   "metadata": {},
   "outputs": [
    {
     "name": "stdout",
     "output_type": "stream",
     "text": [
      "(480, 10) (480, 1)\n"
     ]
    }
   ],
   "source": [
    "y = loan_features_df[[\"loan_status\"]] \n",
    "X = loan_features_df.drop(columns=[\"loan_status\"])\n",
    "print(X.shape, y.shape)"
   ]
  },
  {
   "cell_type": "code",
   "execution_count": 28,
   "metadata": {},
   "outputs": [],
   "source": [
    "from sklearn.model_selection import train_test_split\n",
    "X_train, X_test, y_train, y_test = train_test_split(X, y, random_state=1, stratify=y)"
   ]
  },
  {
   "cell_type": "code",
   "execution_count": 29,
   "metadata": {},
   "outputs": [],
   "source": [
    "#code to numberic  Removed -->  ‘Urban’: 3, ‘Semiurban’: 2,’Rural’: 1,\n",
    "code_numeric = {'Female': 1, 'Male': 2,'Yes': 1, 'No': 2,\n",
    "'Graduate': 1, 'Not Graduate': 2, 'Y': 1, 'N': 0, '3+': 3}"
   ]
  },
  {
   "cell_type": "code",
   "execution_count": 30,
   "metadata": {},
   "outputs": [],
   "source": [
    "#code to numberic applies to every element of the dataframe\n",
    "loan_features_df = loan_features_df.applymap(lambda s: code_numeric.get(s) if s in code_numeric else s)"
   ]
  },
  {
   "cell_type": "code",
   "execution_count": 31,
   "metadata": {},
   "outputs": [
    {
     "name": "stdout",
     "output_type": "stream",
     "text": [
      "<class 'pandas.core.frame.DataFrame'>\n",
      "Int64Index: 480 entries, 1 to 613\n",
      "Data columns (total 11 columns):\n",
      " #   Column          Non-Null Count  Dtype  \n",
      "---  ------          --------------  -----  \n",
      " 0   gender          480 non-null    int64  \n",
      " 1   married         480 non-null    int64  \n",
      " 2   dependents      480 non-null    object \n",
      " 3   education       480 non-null    int64  \n",
      " 4   self_employed   480 non-null    int64  \n",
      " 5   income          480 non-null    int64  \n",
      " 6   co_income       480 non-null    float64\n",
      " 7   loan_amount     480 non-null    float64\n",
      " 8   loan_term       480 non-null    float64\n",
      " 9   credit_history  480 non-null    float64\n",
      " 10  loan_status     480 non-null    int64  \n",
      "dtypes: float64(4), int64(6), object(1)\n",
      "memory usage: 65.0+ KB\n"
     ]
    }
   ],
   "source": [
    "loan_features_df.info()"
   ]
  },
  {
   "cell_type": "markdown",
   "metadata": {},
   "source": [
    "# Pre-processing\n",
    "\n",
    "Scale the data and perform some feature selection"
   ]
  },
  {
   "cell_type": "code",
   "execution_count": 32,
   "metadata": {},
   "outputs": [],
   "source": [
    "# Create a StandardScater model and fit it to the training data\n",
    "from sklearn.preprocessing import StandardScaler\n",
    "X_scaler = StandardScaler().fit(X_train)\n",
    "X_train_scaled = X_scaler.transform(X_train)\n",
    "X_test_scaled = X_scaler.transform(X_test) "
   ]
  },
  {
   "cell_type": "code",
   "execution_count": 33,
   "metadata": {},
   "outputs": [],
   "source": [
    "# Preprocessing\n",
    "from tensorflow.keras.utils import to_categorical\n",
    "y_train_categorical = to_categorical(y_train)\n",
    "y_test_categorical = to_categorical(y_test)"
   ]
  },
  {
   "cell_type": "markdown",
   "metadata": {},
   "source": [
    "# Train the Model\n"
   ]
  },
  {
   "cell_type": "code",
   "execution_count": 34,
   "metadata": {},
   "outputs": [],
   "source": [
    "from tensorflow.keras.models import Sequential\n",
    "from tensorflow.keras.layers import Dense\n",
    "\n",
    "model = Sequential()\n",
    "model.add(Dense(units=500, activation='relu', input_dim=10))\n",
    "# model.add(Dense(units=100, activation='relu'))\n",
    "model.add(Dense(units=2, activation='softmax'))"
   ]
  },
  {
   "cell_type": "code",
   "execution_count": 35,
   "metadata": {},
   "outputs": [
    {
     "name": "stdout",
     "output_type": "stream",
     "text": [
      "Model: \"sequential\"\n",
      "_________________________________________________________________\n",
      "Layer (type)                 Output Shape              Param #   \n",
      "=================================================================\n",
      "dense (Dense)                (None, 500)               5500      \n",
      "_________________________________________________________________\n",
      "dense_1 (Dense)              (None, 2)                 1002      \n",
      "=================================================================\n",
      "Total params: 6,502\n",
      "Trainable params: 6,502\n",
      "Non-trainable params: 0\n",
      "_________________________________________________________________\n"
     ]
    }
   ],
   "source": [
    "model.summary()"
   ]
  },
  {
   "cell_type": "code",
   "execution_count": 36,
   "metadata": {},
   "outputs": [],
   "source": [
    "model.compile(optimizer='adam',\n",
    "              loss='categorical_crossentropy',\n",
    "              metrics=['accuracy'])"
   ]
  },
  {
   "cell_type": "code",
   "execution_count": 39,
   "metadata": {},
   "outputs": [
    {
     "name": "stdout",
     "output_type": "stream",
     "text": [
      "Train on 360 samples\n",
      "Epoch 1/150\n",
      "360/360 - 0s - loss: 0.2589 - accuracy: 0.9139\n",
      "Epoch 2/150\n",
      "360/360 - 0s - loss: 0.2530 - accuracy: 0.9111\n",
      "Epoch 3/150\n",
      "360/360 - 0s - loss: 0.2544 - accuracy: 0.9083\n",
      "Epoch 4/150\n",
      "360/360 - 0s - loss: 0.2540 - accuracy: 0.9111\n",
      "Epoch 5/150\n",
      "360/360 - 0s - loss: 0.2504 - accuracy: 0.9111\n",
      "Epoch 6/150\n",
      "360/360 - 0s - loss: 0.2490 - accuracy: 0.9083\n",
      "Epoch 7/150\n",
      "360/360 - 0s - loss: 0.2508 - accuracy: 0.9111\n",
      "Epoch 8/150\n",
      "360/360 - 0s - loss: 0.2480 - accuracy: 0.9083\n",
      "Epoch 9/150\n",
      "360/360 - 0s - loss: 0.2513 - accuracy: 0.9083\n",
      "Epoch 10/150\n",
      "360/360 - 0s - loss: 0.2484 - accuracy: 0.9167\n",
      "Epoch 11/150\n",
      "360/360 - 0s - loss: 0.2479 - accuracy: 0.9139\n",
      "Epoch 12/150\n",
      "360/360 - 0s - loss: 0.2493 - accuracy: 0.9083\n",
      "Epoch 13/150\n",
      "360/360 - 0s - loss: 0.2468 - accuracy: 0.9139\n",
      "Epoch 14/150\n",
      "360/360 - 0s - loss: 0.2464 - accuracy: 0.9083\n",
      "Epoch 15/150\n",
      "360/360 - 0s - loss: 0.2527 - accuracy: 0.9139\n",
      "Epoch 16/150\n",
      "360/360 - 0s - loss: 0.2531 - accuracy: 0.9056\n",
      "Epoch 17/150\n",
      "360/360 - 0s - loss: 0.2510 - accuracy: 0.9111\n",
      "Epoch 18/150\n",
      "360/360 - 0s - loss: 0.2459 - accuracy: 0.9056\n",
      "Epoch 19/150\n",
      "360/360 - 0s - loss: 0.2442 - accuracy: 0.9083\n",
      "Epoch 20/150\n",
      "360/360 - 0s - loss: 0.2409 - accuracy: 0.9167\n",
      "Epoch 21/150\n",
      "360/360 - 0s - loss: 0.2475 - accuracy: 0.9083\n",
      "Epoch 22/150\n",
      "360/360 - 0s - loss: 0.2500 - accuracy: 0.9083\n",
      "Epoch 23/150\n",
      "360/360 - 0s - loss: 0.2452 - accuracy: 0.9083\n",
      "Epoch 24/150\n",
      "360/360 - 0s - loss: 0.2494 - accuracy: 0.9028\n",
      "Epoch 25/150\n",
      "360/360 - 0s - loss: 0.2433 - accuracy: 0.9028\n",
      "Epoch 26/150\n",
      "360/360 - 0s - loss: 0.2377 - accuracy: 0.9111\n",
      "Epoch 27/150\n",
      "360/360 - 0s - loss: 0.2441 - accuracy: 0.9111\n",
      "Epoch 28/150\n",
      "360/360 - 0s - loss: 0.2388 - accuracy: 0.9139\n",
      "Epoch 29/150\n",
      "360/360 - 0s - loss: 0.2420 - accuracy: 0.9139\n",
      "Epoch 30/150\n",
      "360/360 - 0s - loss: 0.2419 - accuracy: 0.9139\n",
      "Epoch 31/150\n",
      "360/360 - 0s - loss: 0.2460 - accuracy: 0.9194\n",
      "Epoch 32/150\n",
      "360/360 - 0s - loss: 0.2398 - accuracy: 0.9111\n",
      "Epoch 33/150\n",
      "360/360 - 0s - loss: 0.2381 - accuracy: 0.9083\n",
      "Epoch 34/150\n",
      "360/360 - 0s - loss: 0.2396 - accuracy: 0.9083\n",
      "Epoch 35/150\n",
      "360/360 - 0s - loss: 0.2376 - accuracy: 0.9139\n",
      "Epoch 36/150\n",
      "360/360 - 0s - loss: 0.2326 - accuracy: 0.9139\n",
      "Epoch 37/150\n",
      "360/360 - 0s - loss: 0.2331 - accuracy: 0.9139\n",
      "Epoch 38/150\n",
      "360/360 - 0s - loss: 0.2412 - accuracy: 0.9056\n",
      "Epoch 39/150\n",
      "360/360 - 0s - loss: 0.2398 - accuracy: 0.9056\n",
      "Epoch 40/150\n",
      "360/360 - 0s - loss: 0.2365 - accuracy: 0.9111\n",
      "Epoch 41/150\n",
      "360/360 - 0s - loss: 0.2321 - accuracy: 0.9194\n",
      "Epoch 42/150\n",
      "360/360 - 0s - loss: 0.2366 - accuracy: 0.9111\n",
      "Epoch 43/150\n",
      "360/360 - 0s - loss: 0.2341 - accuracy: 0.9028\n",
      "Epoch 44/150\n",
      "360/360 - 0s - loss: 0.2287 - accuracy: 0.9139\n",
      "Epoch 45/150\n",
      "360/360 - 0s - loss: 0.2346 - accuracy: 0.9111\n",
      "Epoch 46/150\n",
      "360/360 - 0s - loss: 0.2370 - accuracy: 0.9111\n",
      "Epoch 47/150\n",
      "360/360 - 0s - loss: 0.2353 - accuracy: 0.9139\n",
      "Epoch 48/150\n",
      "360/360 - 0s - loss: 0.2396 - accuracy: 0.9167\n",
      "Epoch 49/150\n",
      "360/360 - 0s - loss: 0.2274 - accuracy: 0.9139\n",
      "Epoch 50/150\n",
      "360/360 - 0s - loss: 0.2311 - accuracy: 0.9111\n",
      "Epoch 51/150\n",
      "360/360 - 0s - loss: 0.2265 - accuracy: 0.9194\n",
      "Epoch 52/150\n",
      "360/360 - 0s - loss: 0.2278 - accuracy: 0.9167\n",
      "Epoch 53/150\n",
      "360/360 - 0s - loss: 0.2263 - accuracy: 0.9139\n",
      "Epoch 54/150\n",
      "360/360 - 0s - loss: 0.2286 - accuracy: 0.9139\n",
      "Epoch 55/150\n",
      "360/360 - 0s - loss: 0.2271 - accuracy: 0.9139\n",
      "Epoch 56/150\n",
      "360/360 - 0s - loss: 0.2227 - accuracy: 0.9167\n",
      "Epoch 57/150\n",
      "360/360 - 0s - loss: 0.2296 - accuracy: 0.9222\n",
      "Epoch 58/150\n",
      "360/360 - 0s - loss: 0.2257 - accuracy: 0.9250\n",
      "Epoch 59/150\n",
      "360/360 - 0s - loss: 0.2240 - accuracy: 0.9194\n",
      "Epoch 60/150\n",
      "360/360 - 0s - loss: 0.2453 - accuracy: 0.9139\n",
      "Epoch 61/150\n",
      "360/360 - 0s - loss: 0.2307 - accuracy: 0.9056\n",
      "Epoch 62/150\n",
      "360/360 - 0s - loss: 0.2322 - accuracy: 0.9028\n",
      "Epoch 63/150\n",
      "360/360 - 0s - loss: 0.2242 - accuracy: 0.9194\n",
      "Epoch 64/150\n",
      "360/360 - 0s - loss: 0.2253 - accuracy: 0.9194\n",
      "Epoch 65/150\n",
      "360/360 - 0s - loss: 0.2284 - accuracy: 0.9139\n",
      "Epoch 66/150\n",
      "360/360 - 0s - loss: 0.2281 - accuracy: 0.9111\n",
      "Epoch 67/150\n",
      "360/360 - 0s - loss: 0.2220 - accuracy: 0.9167\n",
      "Epoch 68/150\n",
      "360/360 - 0s - loss: 0.2254 - accuracy: 0.9194\n",
      "Epoch 69/150\n",
      "360/360 - 0s - loss: 0.2163 - accuracy: 0.9167\n",
      "Epoch 70/150\n",
      "360/360 - 0s - loss: 0.2206 - accuracy: 0.9167\n",
      "Epoch 71/150\n",
      "360/360 - 0s - loss: 0.2195 - accuracy: 0.9250\n",
      "Epoch 72/150\n",
      "360/360 - 0s - loss: 0.2185 - accuracy: 0.9194\n",
      "Epoch 73/150\n",
      "360/360 - 0s - loss: 0.2207 - accuracy: 0.9139\n",
      "Epoch 74/150\n",
      "360/360 - 0s - loss: 0.2190 - accuracy: 0.9194\n",
      "Epoch 75/150\n",
      "360/360 - 0s - loss: 0.2161 - accuracy: 0.9167\n",
      "Epoch 76/150\n",
      "360/360 - 0s - loss: 0.2225 - accuracy: 0.9139\n",
      "Epoch 77/150\n",
      "360/360 - 0s - loss: 0.2168 - accuracy: 0.9222\n",
      "Epoch 78/150\n",
      "360/360 - 0s - loss: 0.2165 - accuracy: 0.9194\n",
      "Epoch 79/150\n",
      "360/360 - 0s - loss: 0.2146 - accuracy: 0.9139\n",
      "Epoch 80/150\n",
      "360/360 - 0s - loss: 0.2184 - accuracy: 0.9167\n",
      "Epoch 81/150\n",
      "360/360 - 0s - loss: 0.2137 - accuracy: 0.9167\n",
      "Epoch 82/150\n",
      "360/360 - 0s - loss: 0.2121 - accuracy: 0.9167\n",
      "Epoch 83/150\n",
      "360/360 - 0s - loss: 0.2145 - accuracy: 0.9167\n",
      "Epoch 84/150\n",
      "360/360 - 0s - loss: 0.2189 - accuracy: 0.9111\n",
      "Epoch 85/150\n",
      "360/360 - 0s - loss: 0.2183 - accuracy: 0.9167\n",
      "Epoch 86/150\n",
      "360/360 - 0s - loss: 0.2147 - accuracy: 0.9139\n",
      "Epoch 87/150\n",
      "360/360 - 0s - loss: 0.2149 - accuracy: 0.9194\n",
      "Epoch 88/150\n",
      "360/360 - 0s - loss: 0.2109 - accuracy: 0.9278\n",
      "Epoch 89/150\n",
      "360/360 - 0s - loss: 0.2120 - accuracy: 0.9167\n",
      "Epoch 90/150\n",
      "360/360 - 0s - loss: 0.2114 - accuracy: 0.9222\n",
      "Epoch 91/150\n",
      "360/360 - 0s - loss: 0.2097 - accuracy: 0.9194\n",
      "Epoch 92/150\n",
      "360/360 - 0s - loss: 0.2085 - accuracy: 0.9222\n",
      "Epoch 93/150\n",
      "360/360 - 0s - loss: 0.2071 - accuracy: 0.9222\n",
      "Epoch 94/150\n",
      "360/360 - 0s - loss: 0.2065 - accuracy: 0.9278\n",
      "Epoch 95/150\n",
      "360/360 - 0s - loss: 0.2081 - accuracy: 0.9250\n",
      "Epoch 96/150\n",
      "360/360 - 0s - loss: 0.2112 - accuracy: 0.9167\n",
      "Epoch 97/150\n",
      "360/360 - 0s - loss: 0.2106 - accuracy: 0.9167\n",
      "Epoch 98/150\n",
      "360/360 - 0s - loss: 0.2068 - accuracy: 0.9222\n",
      "Epoch 99/150\n",
      "360/360 - 0s - loss: 0.2098 - accuracy: 0.9194\n",
      "Epoch 100/150\n",
      "360/360 - 0s - loss: 0.2089 - accuracy: 0.9167\n",
      "Epoch 101/150\n",
      "360/360 - 0s - loss: 0.2043 - accuracy: 0.9222\n",
      "Epoch 102/150\n",
      "360/360 - 0s - loss: 0.2077 - accuracy: 0.9250\n",
      "Epoch 103/150\n",
      "360/360 - 0s - loss: 0.2195 - accuracy: 0.9139\n",
      "Epoch 104/150\n",
      "360/360 - 0s - loss: 0.2070 - accuracy: 0.9194\n",
      "Epoch 105/150\n",
      "360/360 - 0s - loss: 0.2090 - accuracy: 0.9194\n",
      "Epoch 106/150\n",
      "360/360 - 0s - loss: 0.2036 - accuracy: 0.9194\n",
      "Epoch 107/150\n",
      "360/360 - 0s - loss: 0.2038 - accuracy: 0.9250\n",
      "Epoch 108/150\n",
      "360/360 - 0s - loss: 0.2024 - accuracy: 0.9222\n",
      "Epoch 109/150\n",
      "360/360 - 0s - loss: 0.2003 - accuracy: 0.9194\n",
      "Epoch 110/150\n",
      "360/360 - 0s - loss: 0.2064 - accuracy: 0.9222\n",
      "Epoch 111/150\n",
      "360/360 - 0s - loss: 0.2019 - accuracy: 0.9278\n",
      "Epoch 112/150\n",
      "360/360 - 0s - loss: 0.2041 - accuracy: 0.9250\n",
      "Epoch 113/150\n",
      "360/360 - 0s - loss: 0.2058 - accuracy: 0.9194\n",
      "Epoch 114/150\n",
      "360/360 - 0s - loss: 0.2005 - accuracy: 0.9306\n",
      "Epoch 115/150\n",
      "360/360 - 0s - loss: 0.1992 - accuracy: 0.9306\n",
      "Epoch 116/150\n",
      "360/360 - 0s - loss: 0.2022 - accuracy: 0.9194\n",
      "Epoch 117/150\n",
      "360/360 - 0s - loss: 0.1945 - accuracy: 0.9250\n",
      "Epoch 118/150\n",
      "360/360 - 0s - loss: 0.2045 - accuracy: 0.9250\n",
      "Epoch 119/150\n",
      "360/360 - 0s - loss: 0.2001 - accuracy: 0.9222\n",
      "Epoch 120/150\n",
      "360/360 - 0s - loss: 0.1989 - accuracy: 0.9250\n",
      "Epoch 121/150\n",
      "360/360 - 0s - loss: 0.1992 - accuracy: 0.9333\n",
      "Epoch 122/150\n",
      "360/360 - 0s - loss: 0.2024 - accuracy: 0.9250\n",
      "Epoch 123/150\n",
      "360/360 - 0s - loss: 0.1950 - accuracy: 0.9222\n",
      "Epoch 124/150\n",
      "360/360 - 0s - loss: 0.1994 - accuracy: 0.9278\n",
      "Epoch 125/150\n",
      "360/360 - 0s - loss: 0.2064 - accuracy: 0.9167\n",
      "Epoch 126/150\n",
      "360/360 - 0s - loss: 0.1961 - accuracy: 0.9278\n",
      "Epoch 127/150\n",
      "360/360 - 0s - loss: 0.1942 - accuracy: 0.9306\n",
      "Epoch 128/150\n",
      "360/360 - 0s - loss: 0.1979 - accuracy: 0.9250\n",
      "Epoch 129/150\n",
      "360/360 - 0s - loss: 0.1960 - accuracy: 0.9250\n",
      "Epoch 130/150\n",
      "360/360 - 0s - loss: 0.1991 - accuracy: 0.9361\n",
      "Epoch 131/150\n",
      "360/360 - 0s - loss: 0.1987 - accuracy: 0.9222\n",
      "Epoch 132/150\n",
      "360/360 - 0s - loss: 0.1917 - accuracy: 0.9250\n",
      "Epoch 133/150\n",
      "360/360 - 0s - loss: 0.2001 - accuracy: 0.9306\n",
      "Epoch 134/150\n",
      "360/360 - 0s - loss: 0.1946 - accuracy: 0.9222\n",
      "Epoch 135/150\n",
      "360/360 - 0s - loss: 0.1943 - accuracy: 0.9222\n",
      "Epoch 136/150\n",
      "360/360 - 0s - loss: 0.1917 - accuracy: 0.9250\n",
      "Epoch 137/150\n",
      "360/360 - 0s - loss: 0.2011 - accuracy: 0.9278\n",
      "Epoch 138/150\n",
      "360/360 - 0s - loss: 0.1931 - accuracy: 0.9222\n",
      "Epoch 139/150\n",
      "360/360 - 0s - loss: 0.1913 - accuracy: 0.9222\n",
      "Epoch 140/150\n",
      "360/360 - 0s - loss: 0.1900 - accuracy: 0.9250\n",
      "Epoch 141/150\n",
      "360/360 - 0s - loss: 0.1917 - accuracy: 0.9306\n",
      "Epoch 142/150\n",
      "360/360 - 0s - loss: 0.2021 - accuracy: 0.9167\n",
      "Epoch 143/150\n",
      "360/360 - 0s - loss: 0.1867 - accuracy: 0.9278\n",
      "Epoch 144/150\n",
      "360/360 - 0s - loss: 0.1948 - accuracy: 0.9278\n",
      "Epoch 145/150\n",
      "360/360 - 0s - loss: 0.1928 - accuracy: 0.9250\n",
      "Epoch 146/150\n",
      "360/360 - 0s - loss: 0.1874 - accuracy: 0.9278\n",
      "Epoch 147/150\n",
      "360/360 - 0s - loss: 0.1921 - accuracy: 0.9278\n",
      "Epoch 148/150\n",
      "360/360 - 0s - loss: 0.1959 - accuracy: 0.9333\n",
      "Epoch 149/150\n",
      "360/360 - 0s - loss: 0.2033 - accuracy: 0.9194\n",
      "Epoch 150/150\n",
      "360/360 - 0s - loss: 0.2021 - accuracy: 0.9167\n"
     ]
    },
    {
     "data": {
      "text/plain": [
       "<tensorflow.python.keras.callbacks.History at 0x20a209bb388>"
      ]
     },
     "execution_count": 39,
     "metadata": {},
     "output_type": "execute_result"
    }
   ],
   "source": [
    "# Fit the model to the training data\n",
    "model.fit(\n",
    "    X_train_scaled,\n",
    "    y_train_categorical,\n",
    "    epochs=150,\n",
    "    shuffle=True,\n",
    "    verbose=2\n",
    ")"
   ]
  },
  {
   "cell_type": "code",
   "execution_count": 41,
   "metadata": {},
   "outputs": [
    {
     "name": "stdout",
     "output_type": "stream",
     "text": [
      "120/120 - 0s - loss: 0.8138 - accuracy: 0.7500\n",
      "Loss: 0.8137552181879679, Accuracy: 0.75\n"
     ]
    }
   ],
   "source": [
    "model_loss, model_accuracy = model.evaluate(\n",
    "    X_test_scaled, y_test_categorical, verbose=2)\n",
    "print(f\"Loss: {model_loss}, Accuracy: {model_accuracy}\")"
   ]
  },
  {
   "cell_type": "code",
   "execution_count": 42,
   "metadata": {},
   "outputs": [
    {
     "name": "stdout",
     "output_type": "stream",
     "text": [
      "Training Data Score: 0.7972222222222223\n",
      "Testing Data Score: 0.8416666666666667\n"
     ]
    }
   ],
   "source": [
    "from sklearn.svm import SVC \n",
    "model = SVC(kernel='linear')\n",
    "model.fit(X_train_scaled, y_train.values.ravel())\n",
    "\n",
    "print(f\"Training Data Score: {model.score(X_train_scaled, y_train)}\")\n",
    "print(f\"Testing Data Score: {model.score(X_test_scaled, y_test)}\")"
   ]
  },
  {
   "cell_type": "code",
   "execution_count": 43,
   "metadata": {},
   "outputs": [
    {
     "name": "stdout",
     "output_type": "stream",
     "text": [
      "              precision    recall  f1-score   support\n",
      "\n",
      "           0       0.67      0.05      0.10        37\n",
      "           1       0.70      0.99      0.82        83\n",
      "\n",
      "    accuracy                           0.70       120\n",
      "   macro avg       0.68      0.52      0.46       120\n",
      "weighted avg       0.69      0.70      0.60       120\n",
      "\n"
     ]
    }
   ],
   "source": [
    "from sklearn.metrics import classification_report\n",
    "predictions = model.predict(X_test)\n",
    "print(classification_report(y_test, predictions))"
   ]
  },
  {
   "cell_type": "markdown",
   "metadata": {},
   "source": [
    "# Hyperparameter Tuning\n",
    "\n",
    "Use `GridSearchCV` to tune the model's parameters"
   ]
  },
  {
   "cell_type": "code",
   "execution_count": 44,
   "metadata": {},
   "outputs": [],
   "source": [
    "# Create the GridSearchCV model\n",
    "from sklearn.model_selection import GridSearchCV\n",
    "param_grid = {'C': [1, 2, 10, 50],\n",
    "              'gamma': [0.0001, 0.0005, 0.001, 0.005]}\n",
    "grid = GridSearchCV(model, param_grid, verbose=3)"
   ]
  },
  {
   "cell_type": "code",
   "execution_count": 47,
   "metadata": {},
   "outputs": [
    {
     "name": "stdout",
     "output_type": "stream",
     "text": [
      "Fitting 5 folds for each of 16 candidates, totalling 80 fits\n",
      "[CV] C=1, gamma=0.0001 ...............................................\n"
     ]
    },
    {
     "name": "stderr",
     "output_type": "stream",
     "text": [
      "[Parallel(n_jobs=1)]: Using backend SequentialBackend with 1 concurrent workers.\n"
     ]
    },
    {
     "name": "stdout",
     "output_type": "stream",
     "text": [
      "[CV] ................... C=1, gamma=0.0001, score=0.750, total=  56.9s\n",
      "[CV] C=1, gamma=0.0001 ...............................................\n"
     ]
    },
    {
     "name": "stderr",
     "output_type": "stream",
     "text": [
      "[Parallel(n_jobs=1)]: Done   1 out of   1 | elapsed:   56.8s remaining:    0.0s\n"
     ]
    },
    {
     "name": "stdout",
     "output_type": "stream",
     "text": [
      "[CV] ................... C=1, gamma=0.0001, score=0.722, total= 2.0min\n",
      "[CV] C=1, gamma=0.0001 ...............................................\n"
     ]
    },
    {
     "name": "stderr",
     "output_type": "stream",
     "text": [
      "[Parallel(n_jobs=1)]: Done   2 out of   2 | elapsed:  3.0min remaining:    0.0s\n"
     ]
    },
    {
     "name": "stdout",
     "output_type": "stream",
     "text": [
      "[CV] ................... C=1, gamma=0.0001, score=0.736, total= 3.5min\n",
      "[CV] C=1, gamma=0.0001 ...............................................\n",
      "[CV] ................... C=1, gamma=0.0001, score=0.722, total=  42.4s\n",
      "[CV] C=1, gamma=0.0001 ...............................................\n",
      "[CV] ................... C=1, gamma=0.0001, score=0.722, total= 1.2min\n",
      "[CV] C=1, gamma=0.0005 ...............................................\n",
      "[CV] ................... C=1, gamma=0.0005, score=0.750, total=  54.6s\n",
      "[CV] C=1, gamma=0.0005 ...............................................\n",
      "[CV] ................... C=1, gamma=0.0005, score=0.722, total= 2.0min\n",
      "[CV] C=1, gamma=0.0005 ...............................................\n",
      "[CV] ................... C=1, gamma=0.0005, score=0.736, total= 3.4min\n",
      "[CV] C=1, gamma=0.0005 ...............................................\n",
      "[CV] ................... C=1, gamma=0.0005, score=0.722, total=  49.0s\n",
      "[CV] C=1, gamma=0.0005 ...............................................\n",
      "[CV] ................... C=1, gamma=0.0005, score=0.722, total= 1.2min\n",
      "[CV] C=1, gamma=0.001 ................................................\n",
      "[CV] .................... C=1, gamma=0.001, score=0.750, total=  54.9s\n",
      "[CV] C=1, gamma=0.001 ................................................\n",
      "[CV] .................... C=1, gamma=0.001, score=0.722, total= 2.1min\n",
      "[CV] C=1, gamma=0.001 ................................................\n",
      "[CV] .................... C=1, gamma=0.001, score=0.736, total= 3.4min\n",
      "[CV] C=1, gamma=0.001 ................................................\n",
      "[CV] .................... C=1, gamma=0.001, score=0.722, total=  42.2s\n",
      "[CV] C=1, gamma=0.001 ................................................\n",
      "[CV] .................... C=1, gamma=0.001, score=0.722, total= 1.2min\n",
      "[CV] C=1, gamma=0.005 ................................................\n",
      "[CV] .................... C=1, gamma=0.005, score=0.750, total=  58.5s\n",
      "[CV] C=1, gamma=0.005 ................................................\n",
      "[CV] .................... C=1, gamma=0.005, score=0.722, total= 2.1min\n",
      "[CV] C=1, gamma=0.005 ................................................\n",
      "[CV] .................... C=1, gamma=0.005, score=0.736, total= 3.4min\n",
      "[CV] C=1, gamma=0.005 ................................................\n",
      "[CV] .................... C=1, gamma=0.005, score=0.722, total=  42.4s\n",
      "[CV] C=1, gamma=0.005 ................................................\n",
      "[CV] .................... C=1, gamma=0.005, score=0.722, total= 1.2min\n",
      "[CV] C=2, gamma=0.0001 ...............................................\n",
      "[CV] ................... C=2, gamma=0.0001, score=0.764, total= 1.2min\n",
      "[CV] C=2, gamma=0.0001 ...............................................\n",
      "[CV] ................... C=2, gamma=0.0001, score=0.722, total= 1.1min\n",
      "[CV] C=2, gamma=0.0001 ...............................................\n",
      "[CV] ................... C=2, gamma=0.0001, score=0.764, total= 3.0min\n",
      "[CV] C=2, gamma=0.0001 ...............................................\n",
      "[CV] ................... C=2, gamma=0.0001, score=0.708, total=  47.7s\n",
      "[CV] C=2, gamma=0.0001 ...............................................\n",
      "[CV] ................... C=2, gamma=0.0001, score=0.750, total=  45.8s\n",
      "[CV] C=2, gamma=0.0005 ...............................................\n",
      "[CV] ................... C=2, gamma=0.0005, score=0.764, total= 1.3min\n",
      "[CV] C=2, gamma=0.0005 ...............................................\n",
      "[CV] ................... C=2, gamma=0.0005, score=0.722, total= 1.0min\n",
      "[CV] C=2, gamma=0.0005 ...............................................\n",
      "[CV] ................... C=2, gamma=0.0005, score=0.764, total= 3.1min\n",
      "[CV] C=2, gamma=0.0005 ...............................................\n",
      "[CV] ................... C=2, gamma=0.0005, score=0.708, total=  46.1s\n",
      "[CV] C=2, gamma=0.0005 ...............................................\n",
      "[CV] ................... C=2, gamma=0.0005, score=0.750, total=  46.1s\n",
      "[CV] C=2, gamma=0.001 ................................................\n",
      "[CV] .................... C=2, gamma=0.001, score=0.764, total= 1.2min\n",
      "[CV] C=2, gamma=0.001 ................................................\n",
      "[CV] .................... C=2, gamma=0.001, score=0.722, total= 1.0min\n",
      "[CV] C=2, gamma=0.001 ................................................\n",
      "[CV] .................... C=2, gamma=0.001, score=0.764, total= 3.1min\n",
      "[CV] C=2, gamma=0.001 ................................................\n",
      "[CV] .................... C=2, gamma=0.001, score=0.708, total=  56.4s\n",
      "[CV] C=2, gamma=0.001 ................................................\n",
      "[CV] .................... C=2, gamma=0.001, score=0.750, total=  49.6s\n",
      "[CV] C=2, gamma=0.005 ................................................\n",
      "[CV] .................... C=2, gamma=0.005, score=0.764, total= 1.3min\n",
      "[CV] C=2, gamma=0.005 ................................................\n",
      "[CV] .................... C=2, gamma=0.005, score=0.722, total= 1.0min\n",
      "[CV] C=2, gamma=0.005 ................................................\n",
      "[CV] .................... C=2, gamma=0.005, score=0.764, total= 3.0min\n",
      "[CV] C=2, gamma=0.005 ................................................\n",
      "[CV] .................... C=2, gamma=0.005, score=0.708, total=  46.5s\n",
      "[CV] C=2, gamma=0.005 ................................................\n",
      "[CV] .................... C=2, gamma=0.005, score=0.750, total=  45.7s\n",
      "[CV] C=10, gamma=0.0001 ..............................................\n",
      "[CV] .................. C=10, gamma=0.0001, score=0.750, total= 1.2min\n",
      "[CV] C=10, gamma=0.0001 ..............................................\n",
      "[CV] .................. C=10, gamma=0.0001, score=0.736, total= 1.5min\n",
      "[CV] C=10, gamma=0.0001 ..............................................\n",
      "[CV] .................. C=10, gamma=0.0001, score=0.764, total= 1.4min\n",
      "[CV] C=10, gamma=0.0001 ..............................................\n",
      "[CV] .................. C=10, gamma=0.0001, score=0.694, total= 1.3min\n",
      "[CV] C=10, gamma=0.0001 ..............................................\n",
      "[CV] .................. C=10, gamma=0.0001, score=0.722, total= 2.1min\n",
      "[CV] C=10, gamma=0.0005 ..............................................\n",
      "[CV] .................. C=10, gamma=0.0005, score=0.750, total= 1.2min\n",
      "[CV] C=10, gamma=0.0005 ..............................................\n",
      "[CV] .................. C=10, gamma=0.0005, score=0.736, total= 1.5min\n",
      "[CV] C=10, gamma=0.0005 ..............................................\n",
      "[CV] .................. C=10, gamma=0.0005, score=0.764, total= 1.4min\n",
      "[CV] C=10, gamma=0.0005 ..............................................\n",
      "[CV] .................. C=10, gamma=0.0005, score=0.694, total= 1.3min\n",
      "[CV] C=10, gamma=0.0005 ..............................................\n",
      "[CV] .................. C=10, gamma=0.0005, score=0.722, total= 2.2min\n",
      "[CV] C=10, gamma=0.001 ...............................................\n",
      "[CV] ................... C=10, gamma=0.001, score=0.750, total= 1.2min\n",
      "[CV] C=10, gamma=0.001 ...............................................\n",
      "[CV] ................... C=10, gamma=0.001, score=0.736, total= 1.5min\n",
      "[CV] C=10, gamma=0.001 ...............................................\n",
      "[CV] ................... C=10, gamma=0.001, score=0.764, total= 1.4min\n",
      "[CV] C=10, gamma=0.001 ...............................................\n",
      "[CV] ................... C=10, gamma=0.001, score=0.694, total= 1.4min\n",
      "[CV] C=10, gamma=0.001 ...............................................\n",
      "[CV] ................... C=10, gamma=0.001, score=0.722, total= 2.1min\n",
      "[CV] C=10, gamma=0.005 ...............................................\n",
      "[CV] ................... C=10, gamma=0.005, score=0.750, total= 1.3min\n",
      "[CV] C=10, gamma=0.005 ...............................................\n",
      "[CV] ................... C=10, gamma=0.005, score=0.736, total= 1.5min\n",
      "[CV] C=10, gamma=0.005 ...............................................\n",
      "[CV] ................... C=10, gamma=0.005, score=0.764, total= 1.4min\n",
      "[CV] C=10, gamma=0.005 ...............................................\n",
      "[CV] ................... C=10, gamma=0.005, score=0.694, total= 1.4min\n",
      "[CV] C=10, gamma=0.005 ...............................................\n",
      "[CV] ................... C=10, gamma=0.005, score=0.722, total= 2.0min\n",
      "[CV] C=50, gamma=0.0001 ..............................................\n",
      "[CV] .................. C=50, gamma=0.0001, score=0.722, total= 1.2min\n",
      "[CV] C=50, gamma=0.0001 ..............................................\n",
      "[CV] .................. C=50, gamma=0.0001, score=0.708, total= 1.2min\n",
      "[CV] C=50, gamma=0.0001 ..............................................\n",
      "[CV] .................. C=50, gamma=0.0001, score=0.736, total= 6.3min\n",
      "[CV] C=50, gamma=0.0001 ..............................................\n",
      "[CV] .................. C=50, gamma=0.0001, score=0.681, total= 1.3min\n",
      "[CV] C=50, gamma=0.0001 ..............................................\n",
      "[CV] .................. C=50, gamma=0.0001, score=0.736, total= 1.1min\n",
      "[CV] C=50, gamma=0.0005 ..............................................\n",
      "[CV] .................. C=50, gamma=0.0005, score=0.722, total= 1.2min\n",
      "[CV] C=50, gamma=0.0005 ..............................................\n",
      "[CV] .................. C=50, gamma=0.0005, score=0.708, total= 1.3min\n",
      "[CV] C=50, gamma=0.0005 ..............................................\n",
      "[CV] .................. C=50, gamma=0.0005, score=0.736, total= 6.2min\n",
      "[CV] C=50, gamma=0.0005 ..............................................\n",
      "[CV] .................. C=50, gamma=0.0005, score=0.681, total= 1.3min\n",
      "[CV] C=50, gamma=0.0005 ..............................................\n",
      "[CV] .................. C=50, gamma=0.0005, score=0.736, total= 1.1min\n",
      "[CV] C=50, gamma=0.001 ...............................................\n",
      "[CV] ................... C=50, gamma=0.001, score=0.722, total= 1.2min\n",
      "[CV] C=50, gamma=0.001 ...............................................\n",
      "[CV] ................... C=50, gamma=0.001, score=0.708, total= 1.3min\n",
      "[CV] C=50, gamma=0.001 ...............................................\n",
      "[CV] ................... C=50, gamma=0.001, score=0.736, total= 6.1min\n",
      "[CV] C=50, gamma=0.001 ...............................................\n",
      "[CV] ................... C=50, gamma=0.001, score=0.681, total= 1.3min\n",
      "[CV] C=50, gamma=0.001 ...............................................\n",
      "[CV] ................... C=50, gamma=0.001, score=0.736, total= 1.1min\n",
      "[CV] C=50, gamma=0.005 ...............................................\n",
      "[CV] ................... C=50, gamma=0.005, score=0.722, total= 1.2min\n",
      "[CV] C=50, gamma=0.005 ...............................................\n",
      "[CV] ................... C=50, gamma=0.005, score=0.708, total= 1.2min\n",
      "[CV] C=50, gamma=0.005 ...............................................\n",
      "[CV] ................... C=50, gamma=0.005, score=0.736, total= 6.1min\n",
      "[CV] C=50, gamma=0.005 ...............................................\n",
      "[CV] ................... C=50, gamma=0.005, score=0.681, total= 1.3min\n",
      "[CV] C=50, gamma=0.005 ...............................................\n",
      "[CV] ................... C=50, gamma=0.005, score=0.736, total= 1.2min\n"
     ]
    },
    {
     "name": "stderr",
     "output_type": "stream",
     "text": [
      "[Parallel(n_jobs=1)]: Done  80 out of  80 | elapsed: 136.1min finished\n"
     ]
    },
    {
     "data": {
      "text/plain": [
       "GridSearchCV(estimator=SVC(kernel='linear'),\n",
       "             param_grid={'C': [1, 2, 10, 50],\n",
       "                         'gamma': [0.0001, 0.0005, 0.001, 0.005]},\n",
       "             verbose=3)"
      ]
     },
     "execution_count": 47,
     "metadata": {},
     "output_type": "execute_result"
    }
   ],
   "source": [
    "# Train the model with GridSearch\n",
    "grid.fit(X_train, y_train.values.ravel())"
   ]
  },
  {
   "cell_type": "code",
   "execution_count": 49,
   "metadata": {},
   "outputs": [
    {
     "name": "stdout",
     "output_type": "stream",
     "text": [
      "{'C': 2, 'gamma': 0.0001}\n",
      "0.7416666666666667\n"
     ]
    }
   ],
   "source": [
    "#print params, scores\n",
    "print(grid.best_params_)\n",
    "print(grid.best_score_)"
   ]
  },
  {
   "cell_type": "markdown",
   "metadata": {},
   "source": [
    "# Save the Model"
   ]
  },
  {
   "cell_type": "code",
   "execution_count": 52,
   "metadata": {},
   "outputs": [],
   "source": [
    "import joblib"
   ]
  },
  {
   "cell_type": "code",
   "execution_count": 53,
   "metadata": {},
   "outputs": [
    {
     "data": {
      "text/plain": [
       "['Final_loan_model.sav']"
      ]
     },
     "execution_count": 53,
     "metadata": {},
     "output_type": "execute_result"
    }
   ],
   "source": [
    "# save your model by updating \"your_name\" with your name\n",
    "# and \"your_model\" with your model variable\n",
    "# if joblib fails to import, try running the command to install in terminal/git-bash\n",
    "filename = 'Final_loan_model.sav'\n",
    "joblib.dump(model, filename)\n",
    " \n"
   ]
  },
  {
   "cell_type": "code",
   "execution_count": 56,
   "metadata": {},
   "outputs": [],
   "source": [
    "#To be done later, load the model from disk\n",
    "\n",
    "# loaded_model = joblib.load(filename)\n",
    "# result = loaded_model.score(X_test, y_test_categorical)\n",
    "# print(result)"
   ]
  },
  {
   "cell_type": "code",
   "execution_count": null,
   "metadata": {},
   "outputs": [],
   "source": []
  }
 ],
 "metadata": {
  "kernel_info": {
   "name": "dev"
  },
  "kernelspec": {
   "display_name": "Python 3",
   "language": "python",
   "name": "python3"
  },
  "language_info": {
   "codemirror_mode": {
    "name": "ipython",
    "version": 3
   },
   "file_extension": ".py",
   "mimetype": "text/x-python",
   "name": "python",
   "nbconvert_exporter": "python",
   "pygments_lexer": "ipython3",
   "version": "3.7.9"
  },
  "nteract": {
   "version": "0.12.3"
  }
 },
 "nbformat": 4,
 "nbformat_minor": 4
}
